{
  "nbformat": 4,
  "nbformat_minor": 0,
  "metadata": {
    "colab": {
      "provenance": []
    },
    "kernelspec": {
      "name": "python3",
      "display_name": "Python 3"
    },
    "language_info": {
      "name": "python"
    }
  },
  "cells": [
    {
      "cell_type": "code",
      "execution_count": null,
      "metadata": {
        "id": "QIQXveHaVCB8"
      },
      "outputs": [],
      "source": [
        "import numpy as np\n",
        "import pandas as pd\n",
        "import matplotlib.pyplot as plt\n",
        "from sklearn import linear_model\n"
      ]
    },
    {
      "cell_type": "code",
      "source": [
        "ds=pd.read_csv('/content/drive/MyDrive/Company_data.csv')\n",
        "ds\n"
      ],
      "metadata": {
        "colab": {
          "base_uri": "https://localhost:8080/",
          "height": 419
        },
        "id": "ol9Da4B6kEFC",
        "outputId": "2681d09c-475d-4343-bdd2-367b91737248"
      },
      "execution_count": null,
      "outputs": [
        {
          "output_type": "execute_result",
          "data": {
            "text/plain": [
              "        TV  Radio  Newspaper  Sales\n",
              "0    230.1   37.8       69.2   22.1\n",
              "1     44.5   39.3       45.1   10.4\n",
              "2     17.2   45.9       69.3   12.0\n",
              "3    151.5   41.3       58.5   16.5\n",
              "4    180.8   10.8       58.4   17.9\n",
              "..     ...    ...        ...    ...\n",
              "195   38.2    3.7       13.8    7.6\n",
              "196   94.2    4.9        8.1   14.0\n",
              "197  177.0    9.3        6.4   14.8\n",
              "198  283.6   42.0       66.2   25.5\n",
              "199  232.1    8.6        8.7   18.4\n",
              "\n",
              "[200 rows x 4 columns]"
            ],
            "text/html": [
              "\n",
              "  <div id=\"df-617b1557-667a-41ec-8f9a-f754ea3c03cf\">\n",
              "    <div class=\"colab-df-container\">\n",
              "      <div>\n",
              "<style scoped>\n",
              "    .dataframe tbody tr th:only-of-type {\n",
              "        vertical-align: middle;\n",
              "    }\n",
              "\n",
              "    .dataframe tbody tr th {\n",
              "        vertical-align: top;\n",
              "    }\n",
              "\n",
              "    .dataframe thead th {\n",
              "        text-align: right;\n",
              "    }\n",
              "</style>\n",
              "<table border=\"1\" class=\"dataframe\">\n",
              "  <thead>\n",
              "    <tr style=\"text-align: right;\">\n",
              "      <th></th>\n",
              "      <th>TV</th>\n",
              "      <th>Radio</th>\n",
              "      <th>Newspaper</th>\n",
              "      <th>Sales</th>\n",
              "    </tr>\n",
              "  </thead>\n",
              "  <tbody>\n",
              "    <tr>\n",
              "      <th>0</th>\n",
              "      <td>230.1</td>\n",
              "      <td>37.8</td>\n",
              "      <td>69.2</td>\n",
              "      <td>22.1</td>\n",
              "    </tr>\n",
              "    <tr>\n",
              "      <th>1</th>\n",
              "      <td>44.5</td>\n",
              "      <td>39.3</td>\n",
              "      <td>45.1</td>\n",
              "      <td>10.4</td>\n",
              "    </tr>\n",
              "    <tr>\n",
              "      <th>2</th>\n",
              "      <td>17.2</td>\n",
              "      <td>45.9</td>\n",
              "      <td>69.3</td>\n",
              "      <td>12.0</td>\n",
              "    </tr>\n",
              "    <tr>\n",
              "      <th>3</th>\n",
              "      <td>151.5</td>\n",
              "      <td>41.3</td>\n",
              "      <td>58.5</td>\n",
              "      <td>16.5</td>\n",
              "    </tr>\n",
              "    <tr>\n",
              "      <th>4</th>\n",
              "      <td>180.8</td>\n",
              "      <td>10.8</td>\n",
              "      <td>58.4</td>\n",
              "      <td>17.9</td>\n",
              "    </tr>\n",
              "    <tr>\n",
              "      <th>...</th>\n",
              "      <td>...</td>\n",
              "      <td>...</td>\n",
              "      <td>...</td>\n",
              "      <td>...</td>\n",
              "    </tr>\n",
              "    <tr>\n",
              "      <th>195</th>\n",
              "      <td>38.2</td>\n",
              "      <td>3.7</td>\n",
              "      <td>13.8</td>\n",
              "      <td>7.6</td>\n",
              "    </tr>\n",
              "    <tr>\n",
              "      <th>196</th>\n",
              "      <td>94.2</td>\n",
              "      <td>4.9</td>\n",
              "      <td>8.1</td>\n",
              "      <td>14.0</td>\n",
              "    </tr>\n",
              "    <tr>\n",
              "      <th>197</th>\n",
              "      <td>177.0</td>\n",
              "      <td>9.3</td>\n",
              "      <td>6.4</td>\n",
              "      <td>14.8</td>\n",
              "    </tr>\n",
              "    <tr>\n",
              "      <th>198</th>\n",
              "      <td>283.6</td>\n",
              "      <td>42.0</td>\n",
              "      <td>66.2</td>\n",
              "      <td>25.5</td>\n",
              "    </tr>\n",
              "    <tr>\n",
              "      <th>199</th>\n",
              "      <td>232.1</td>\n",
              "      <td>8.6</td>\n",
              "      <td>8.7</td>\n",
              "      <td>18.4</td>\n",
              "    </tr>\n",
              "  </tbody>\n",
              "</table>\n",
              "<p>200 rows × 4 columns</p>\n",
              "</div>\n",
              "      <button class=\"colab-df-convert\" onclick=\"convertToInteractive('df-617b1557-667a-41ec-8f9a-f754ea3c03cf')\"\n",
              "              title=\"Convert this dataframe to an interactive table.\"\n",
              "              style=\"display:none;\">\n",
              "        \n",
              "  <svg xmlns=\"http://www.w3.org/2000/svg\" height=\"24px\"viewBox=\"0 0 24 24\"\n",
              "       width=\"24px\">\n",
              "    <path d=\"M0 0h24v24H0V0z\" fill=\"none\"/>\n",
              "    <path d=\"M18.56 5.44l.94 2.06.94-2.06 2.06-.94-2.06-.94-.94-2.06-.94 2.06-2.06.94zm-11 1L8.5 8.5l.94-2.06 2.06-.94-2.06-.94L8.5 2.5l-.94 2.06-2.06.94zm10 10l.94 2.06.94-2.06 2.06-.94-2.06-.94-.94-2.06-.94 2.06-2.06.94z\"/><path d=\"M17.41 7.96l-1.37-1.37c-.4-.4-.92-.59-1.43-.59-.52 0-1.04.2-1.43.59L10.3 9.45l-7.72 7.72c-.78.78-.78 2.05 0 2.83L4 21.41c.39.39.9.59 1.41.59.51 0 1.02-.2 1.41-.59l7.78-7.78 2.81-2.81c.8-.78.8-2.07 0-2.86zM5.41 20L4 18.59l7.72-7.72 1.47 1.35L5.41 20z\"/>\n",
              "  </svg>\n",
              "      </button>\n",
              "      \n",
              "  <style>\n",
              "    .colab-df-container {\n",
              "      display:flex;\n",
              "      flex-wrap:wrap;\n",
              "      gap: 12px;\n",
              "    }\n",
              "\n",
              "    .colab-df-convert {\n",
              "      background-color: #E8F0FE;\n",
              "      border: none;\n",
              "      border-radius: 50%;\n",
              "      cursor: pointer;\n",
              "      display: none;\n",
              "      fill: #1967D2;\n",
              "      height: 32px;\n",
              "      padding: 0 0 0 0;\n",
              "      width: 32px;\n",
              "    }\n",
              "\n",
              "    .colab-df-convert:hover {\n",
              "      background-color: #E2EBFA;\n",
              "      box-shadow: 0px 1px 2px rgba(60, 64, 67, 0.3), 0px 1px 3px 1px rgba(60, 64, 67, 0.15);\n",
              "      fill: #174EA6;\n",
              "    }\n",
              "\n",
              "    [theme=dark] .colab-df-convert {\n",
              "      background-color: #3B4455;\n",
              "      fill: #D2E3FC;\n",
              "    }\n",
              "\n",
              "    [theme=dark] .colab-df-convert:hover {\n",
              "      background-color: #434B5C;\n",
              "      box-shadow: 0px 1px 3px 1px rgba(0, 0, 0, 0.15);\n",
              "      filter: drop-shadow(0px 1px 2px rgba(0, 0, 0, 0.3));\n",
              "      fill: #FFFFFF;\n",
              "    }\n",
              "  </style>\n",
              "\n",
              "      <script>\n",
              "        const buttonEl =\n",
              "          document.querySelector('#df-617b1557-667a-41ec-8f9a-f754ea3c03cf button.colab-df-convert');\n",
              "        buttonEl.style.display =\n",
              "          google.colab.kernel.accessAllowed ? 'block' : 'none';\n",
              "\n",
              "        async function convertToInteractive(key) {\n",
              "          const element = document.querySelector('#df-617b1557-667a-41ec-8f9a-f754ea3c03cf');\n",
              "          const dataTable =\n",
              "            await google.colab.kernel.invokeFunction('convertToInteractive',\n",
              "                                                     [key], {});\n",
              "          if (!dataTable) return;\n",
              "\n",
              "          const docLinkHtml = 'Like what you see? Visit the ' +\n",
              "            '<a target=\"_blank\" href=https://colab.research.google.com/notebooks/data_table.ipynb>data table notebook</a>'\n",
              "            + ' to learn more about interactive tables.';\n",
              "          element.innerHTML = '';\n",
              "          dataTable['output_type'] = 'display_data';\n",
              "          await google.colab.output.renderOutput(dataTable, element);\n",
              "          const docLink = document.createElement('div');\n",
              "          docLink.innerHTML = docLinkHtml;\n",
              "          element.appendChild(docLink);\n",
              "        }\n",
              "      </script>\n",
              "    </div>\n",
              "  </div>\n",
              "  "
            ]
          },
          "metadata": {},
          "execution_count": 14
        }
      ]
    },
    {
      "cell_type": "code",
      "source": [
        "ds.isnull().sum()"
      ],
      "metadata": {
        "colab": {
          "base_uri": "https://localhost:8080/"
        },
        "id": "ejjutlp7kwEg",
        "outputId": "09115047-d8a4-4227-eea0-549b0f24c18a"
      },
      "execution_count": null,
      "outputs": [
        {
          "output_type": "execute_result",
          "data": {
            "text/plain": [
              "TV           0\n",
              "Radio        0\n",
              "Newspaper    0\n",
              "Sales        0\n",
              "dtype: int64"
            ]
          },
          "metadata": {},
          "execution_count": 15
        }
      ]
    },
    {
      "cell_type": "code",
      "source": [
        "x=ds.drop('Sales',axis=1).values\n",
        "y=ds['Sales'].values"
      ],
      "metadata": {
        "id": "v7kH-apvk5b6"
      },
      "execution_count": null,
      "outputs": []
    },
    {
      "cell_type": "code",
      "source": [
        "y"
      ],
      "metadata": {
        "colab": {
          "base_uri": "https://localhost:8080/"
        },
        "id": "XFSFUoqqlVFZ",
        "outputId": "d606558c-d639-44c3-e06a-6b9ec786276c"
      },
      "execution_count": null,
      "outputs": [
        {
          "output_type": "execute_result",
          "data": {
            "text/plain": [
              "array([22.1, 10.4, 12. , 16.5, 17.9,  7.2, 11.8, 13.2,  4.8, 15.6, 12.6,\n",
              "       17.4,  9.2, 13.7, 19. , 22.4, 12.5, 24.4, 11.3, 14.6, 18. , 17.5,\n",
              "        5.6, 20.5,  9.7, 17. , 15. , 20.9, 18.9, 10.5, 21.4, 11.9, 13.2,\n",
              "       17.4, 11.9, 17.8, 25.4, 14.7, 10.1, 21.5, 16.6, 17.1, 20.7, 17.9,\n",
              "        8.5, 16.1, 10.6, 23.2, 19.8,  9.7, 16.4, 10.7, 22.6, 21.2, 20.2,\n",
              "       23.7,  5.5, 13.2, 23.8, 18.4,  8.1, 24.2, 20.7, 14. , 16. , 11.3,\n",
              "       11. , 13.4, 18.9, 22.3, 18.3, 12.4,  8.8, 11. , 17. ,  8.7,  6.9,\n",
              "       14.2,  5.3, 11. , 11.8, 17.3, 11.3, 13.6, 21.7, 20.2, 12. , 16. ,\n",
              "       12.9, 16.7, 14. ,  7.3, 19.4, 22.2, 11.5, 16.9, 16.7, 20.5, 25.4,\n",
              "       17.2, 16.7, 23.8, 19.8, 19.7, 20.7, 15. ,  7.2, 12. ,  5.3, 19.8,\n",
              "       18.4, 21.8, 17.1, 20.9, 14.6, 12.6, 12.2,  9.4, 15.9,  6.6, 15.5,\n",
              "        7. , 16.6, 15.2, 19.7, 10.6,  6.6, 11.9, 24.7,  9.7,  1.6, 17.7,\n",
              "        5.7, 19.6, 10.8, 11.6,  9.5, 20.8,  9.6, 20.7, 10.9, 19.2, 20.1,\n",
              "       10.4, 12.3, 10.3, 18.2, 25.4, 10.9, 10.1, 16.1, 11.6, 16.6, 16. ,\n",
              "       20.6,  3.2, 15.3, 10.1,  7.3, 12.9, 16.4, 13.3, 19.9, 18. , 11.9,\n",
              "       16.9,  8. , 17.2, 17.1, 20. ,  8.4, 17.5,  7.6, 16.7, 16.5, 27. ,\n",
              "       20.2, 16.7, 16.8, 17.6, 15.5, 17.2,  8.7, 26.2, 17.6, 22.6, 10.3,\n",
              "       17.3, 20.9,  6.7, 10.8, 11.9,  5.9, 19.6, 17.3,  7.6, 14. , 14.8,\n",
              "       25.5, 18.4])"
            ]
          },
          "metadata": {},
          "execution_count": 19
        }
      ]
    },
    {
      "cell_type": "code",
      "source": [
        "x"
      ],
      "metadata": {
        "colab": {
          "base_uri": "https://localhost:8080/"
        },
        "id": "WXgg2KE6lX33",
        "outputId": "cd902549-764f-47b6-fd73-e65a140e86a7"
      },
      "execution_count": null,
      "outputs": [
        {
          "output_type": "execute_result",
          "data": {
            "text/plain": [
              "array([[230.1,  37.8,  69.2],\n",
              "       [ 44.5,  39.3,  45.1],\n",
              "       [ 17.2,  45.9,  69.3],\n",
              "       [151.5,  41.3,  58.5],\n",
              "       [180.8,  10.8,  58.4],\n",
              "       [  8.7,  48.9,  75. ],\n",
              "       [ 57.5,  32.8,  23.5],\n",
              "       [120.2,  19.6,  11.6],\n",
              "       [  8.6,   2.1,   1. ],\n",
              "       [199.8,   2.6,  21.2],\n",
              "       [ 66.1,   5.8,  24.2],\n",
              "       [214.7,  24. ,   4. ],\n",
              "       [ 23.8,  35.1,  65.9],\n",
              "       [ 97.5,   7.6,   7.2],\n",
              "       [204.1,  32.9,  46. ],\n",
              "       [195.4,  47.7,  52.9],\n",
              "       [ 67.8,  36.6, 114. ],\n",
              "       [281.4,  39.6,  55.8],\n",
              "       [ 69.2,  20.5,  18.3],\n",
              "       [147.3,  23.9,  19.1],\n",
              "       [218.4,  27.7,  53.4],\n",
              "       [237.4,   5.1,  23.5],\n",
              "       [ 13.2,  15.9,  49.6],\n",
              "       [228.3,  16.9,  26.2],\n",
              "       [ 62.3,  12.6,  18.3],\n",
              "       [262.9,   3.5,  19.5],\n",
              "       [142.9,  29.3,  12.6],\n",
              "       [240.1,  16.7,  22.9],\n",
              "       [248.8,  27.1,  22.9],\n",
              "       [ 70.6,  16. ,  40.8],\n",
              "       [292.9,  28.3,  43.2],\n",
              "       [112.9,  17.4,  38.6],\n",
              "       [ 97.2,   1.5,  30. ],\n",
              "       [265.6,  20. ,   0.3],\n",
              "       [ 95.7,   1.4,   7.4],\n",
              "       [290.7,   4.1,   8.5],\n",
              "       [266.9,  43.8,   5. ],\n",
              "       [ 74.7,  49.4,  45.7],\n",
              "       [ 43.1,  26.7,  35.1],\n",
              "       [228. ,  37.7,  32. ],\n",
              "       [202.5,  22.3,  31.6],\n",
              "       [177. ,  33.4,  38.7],\n",
              "       [293.6,  27.7,   1.8],\n",
              "       [206.9,   8.4,  26.4],\n",
              "       [ 25.1,  25.7,  43.3],\n",
              "       [175.1,  22.5,  31.5],\n",
              "       [ 89.7,   9.9,  35.7],\n",
              "       [239.9,  41.5,  18.5],\n",
              "       [227.2,  15.8,  49.9],\n",
              "       [ 66.9,  11.7,  36.8],\n",
              "       [199.8,   3.1,  34.6],\n",
              "       [100.4,   9.6,   3.6],\n",
              "       [216.4,  41.7,  39.6],\n",
              "       [182.6,  46.2,  58.7],\n",
              "       [262.7,  28.8,  15.9],\n",
              "       [198.9,  49.4,  60. ],\n",
              "       [  7.3,  28.1,  41.4],\n",
              "       [136.2,  19.2,  16.6],\n",
              "       [210.8,  49.6,  37.7],\n",
              "       [210.7,  29.5,   9.3],\n",
              "       [ 53.5,   2. ,  21.4],\n",
              "       [261.3,  42.7,  54.7],\n",
              "       [239.3,  15.5,  27.3],\n",
              "       [102.7,  29.6,   8.4],\n",
              "       [131.1,  42.8,  28.9],\n",
              "       [ 69. ,   9.3,   0.9],\n",
              "       [ 31.5,  24.6,   2.2],\n",
              "       [139.3,  14.5,  10.2],\n",
              "       [237.4,  27.5,  11. ],\n",
              "       [216.8,  43.9,  27.2],\n",
              "       [199.1,  30.6,  38.7],\n",
              "       [109.8,  14.3,  31.7],\n",
              "       [ 26.8,  33. ,  19.3],\n",
              "       [129.4,   5.7,  31.3],\n",
              "       [213.4,  24.6,  13.1],\n",
              "       [ 16.9,  43.7,  89.4],\n",
              "       [ 27.5,   1.6,  20.7],\n",
              "       [120.5,  28.5,  14.2],\n",
              "       [  5.4,  29.9,   9.4],\n",
              "       [116. ,   7.7,  23.1],\n",
              "       [ 76.4,  26.7,  22.3],\n",
              "       [239.8,   4.1,  36.9],\n",
              "       [ 75.3,  20.3,  32.5],\n",
              "       [ 68.4,  44.5,  35.6],\n",
              "       [213.5,  43. ,  33.8],\n",
              "       [193.2,  18.4,  65.7],\n",
              "       [ 76.3,  27.5,  16. ],\n",
              "       [110.7,  40.6,  63.2],\n",
              "       [ 88.3,  25.5,  73.4],\n",
              "       [109.8,  47.8,  51.4],\n",
              "       [134.3,   4.9,   9.3],\n",
              "       [ 28.6,   1.5,  33. ],\n",
              "       [217.7,  33.5,  59. ],\n",
              "       [250.9,  36.5,  72.3],\n",
              "       [107.4,  14. ,  10.9],\n",
              "       [163.3,  31.6,  52.9],\n",
              "       [197.6,   3.5,   5.9],\n",
              "       [184.9,  21. ,  22. ],\n",
              "       [289.7,  42.3,  51.2],\n",
              "       [135.2,  41.7,  45.9],\n",
              "       [222.4,   4.3,  49.8],\n",
              "       [296.4,  36.3, 100.9],\n",
              "       [280.2,  10.1,  21.4],\n",
              "       [187.9,  17.2,  17.9],\n",
              "       [238.2,  34.3,   5.3],\n",
              "       [137.9,  46.4,  59. ],\n",
              "       [ 25. ,  11. ,  29.7],\n",
              "       [ 90.4,   0.3,  23.2],\n",
              "       [ 13.1,   0.4,  25.6],\n",
              "       [255.4,  26.9,   5.5],\n",
              "       [225.8,   8.2,  56.5],\n",
              "       [241.7,  38. ,  23.2],\n",
              "       [175.7,  15.4,   2.4],\n",
              "       [209.6,  20.6,  10.7],\n",
              "       [ 78.2,  46.8,  34.5],\n",
              "       [ 75.1,  35. ,  52.7],\n",
              "       [139.2,  14.3,  25.6],\n",
              "       [ 76.4,   0.8,  14.8],\n",
              "       [125.7,  36.9,  79.2],\n",
              "       [ 19.4,  16. ,  22.3],\n",
              "       [141.3,  26.8,  46.2],\n",
              "       [ 18.8,  21.7,  50.4],\n",
              "       [224. ,   2.4,  15.6],\n",
              "       [123.1,  34.6,  12.4],\n",
              "       [229.5,  32.3,  74.2],\n",
              "       [ 87.2,  11.8,  25.9],\n",
              "       [  7.8,  38.9,  50.6],\n",
              "       [ 80.2,   0. ,   9.2],\n",
              "       [220.3,  49. ,   3.2],\n",
              "       [ 59.6,  12. ,  43.1],\n",
              "       [  0.7,  39.6,   8.7],\n",
              "       [265.2,   2.9,  43. ],\n",
              "       [  8.4,  27.2,   2.1],\n",
              "       [219.8,  33.5,  45.1],\n",
              "       [ 36.9,  38.6,  65.6],\n",
              "       [ 48.3,  47. ,   8.5],\n",
              "       [ 25.6,  39. ,   9.3],\n",
              "       [273.7,  28.9,  59.7],\n",
              "       [ 43. ,  25.9,  20.5],\n",
              "       [184.9,  43.9,   1.7],\n",
              "       [ 73.4,  17. ,  12.9],\n",
              "       [193.7,  35.4,  75.6],\n",
              "       [220.5,  33.2,  37.9],\n",
              "       [104.6,   5.7,  34.4],\n",
              "       [ 96.2,  14.8,  38.9],\n",
              "       [140.3,   1.9,   9. ],\n",
              "       [240.1,   7.3,   8.7],\n",
              "       [243.2,  49. ,  44.3],\n",
              "       [ 38. ,  40.3,  11.9],\n",
              "       [ 44.7,  25.8,  20.6],\n",
              "       [280.7,  13.9,  37. ],\n",
              "       [121. ,   8.4,  48.7],\n",
              "       [197.6,  23.3,  14.2],\n",
              "       [171.3,  39.7,  37.7],\n",
              "       [187.8,  21.1,   9.5],\n",
              "       [  4.1,  11.6,   5.7],\n",
              "       [ 93.9,  43.5,  50.5],\n",
              "       [149.8,   1.3,  24.3],\n",
              "       [ 11.7,  36.9,  45.2],\n",
              "       [131.7,  18.4,  34.6],\n",
              "       [172.5,  18.1,  30.7],\n",
              "       [ 85.7,  35.8,  49.3],\n",
              "       [188.4,  18.1,  25.6],\n",
              "       [163.5,  36.8,   7.4],\n",
              "       [117.2,  14.7,   5.4],\n",
              "       [234.5,   3.4,  84.8],\n",
              "       [ 17.9,  37.6,  21.6],\n",
              "       [206.8,   5.2,  19.4],\n",
              "       [215.4,  23.6,  57.6],\n",
              "       [284.3,  10.6,   6.4],\n",
              "       [ 50. ,  11.6,  18.4],\n",
              "       [164.5,  20.9,  47.4],\n",
              "       [ 19.6,  20.1,  17. ],\n",
              "       [168.4,   7.1,  12.8],\n",
              "       [222.4,   3.4,  13.1],\n",
              "       [276.9,  48.9,  41.8],\n",
              "       [248.4,  30.2,  20.3],\n",
              "       [170.2,   7.8,  35.2],\n",
              "       [276.7,   2.3,  23.7],\n",
              "       [165.6,  10. ,  17.6],\n",
              "       [156.6,   2.6,   8.3],\n",
              "       [218.5,   5.4,  27.4],\n",
              "       [ 56.2,   5.7,  29.7],\n",
              "       [287.6,  43. ,  71.8],\n",
              "       [253.8,  21.3,  30. ],\n",
              "       [205. ,  45.1,  19.6],\n",
              "       [139.5,   2.1,  26.6],\n",
              "       [191.1,  28.7,  18.2],\n",
              "       [286. ,  13.9,   3.7],\n",
              "       [ 18.7,  12.1,  23.4],\n",
              "       [ 39.5,  41.1,   5.8],\n",
              "       [ 75.5,  10.8,   6. ],\n",
              "       [ 17.2,   4.1,  31.6],\n",
              "       [166.8,  42. ,   3.6],\n",
              "       [149.7,  35.6,   6. ],\n",
              "       [ 38.2,   3.7,  13.8],\n",
              "       [ 94.2,   4.9,   8.1],\n",
              "       [177. ,   9.3,   6.4],\n",
              "       [283.6,  42. ,  66.2],\n",
              "       [232.1,   8.6,   8.7]])"
            ]
          },
          "metadata": {},
          "execution_count": 20
        }
      ]
    },
    {
      "cell_type": "code",
      "source": [
        "x_paper=x[:,2]"
      ],
      "metadata": {
        "id": "j2aCRBmvlZtC"
      },
      "execution_count": null,
      "outputs": []
    },
    {
      "cell_type": "code",
      "source": [
        "x_paper"
      ],
      "metadata": {
        "colab": {
          "base_uri": "https://localhost:8080/"
        },
        "id": "pV4DG6TSlkLP",
        "outputId": "8e49e8d3-f6c7-4807-f984-c9b0e044c767"
      },
      "execution_count": null,
      "outputs": [
        {
          "output_type": "execute_result",
          "data": {
            "text/plain": [
              "array([ 69.2,  45.1,  69.3,  58.5,  58.4,  75. ,  23.5,  11.6,   1. ,\n",
              "        21.2,  24.2,   4. ,  65.9,   7.2,  46. ,  52.9, 114. ,  55.8,\n",
              "        18.3,  19.1,  53.4,  23.5,  49.6,  26.2,  18.3,  19.5,  12.6,\n",
              "        22.9,  22.9,  40.8,  43.2,  38.6,  30. ,   0.3,   7.4,   8.5,\n",
              "         5. ,  45.7,  35.1,  32. ,  31.6,  38.7,   1.8,  26.4,  43.3,\n",
              "        31.5,  35.7,  18.5,  49.9,  36.8,  34.6,   3.6,  39.6,  58.7,\n",
              "        15.9,  60. ,  41.4,  16.6,  37.7,   9.3,  21.4,  54.7,  27.3,\n",
              "         8.4,  28.9,   0.9,   2.2,  10.2,  11. ,  27.2,  38.7,  31.7,\n",
              "        19.3,  31.3,  13.1,  89.4,  20.7,  14.2,   9.4,  23.1,  22.3,\n",
              "        36.9,  32.5,  35.6,  33.8,  65.7,  16. ,  63.2,  73.4,  51.4,\n",
              "         9.3,  33. ,  59. ,  72.3,  10.9,  52.9,   5.9,  22. ,  51.2,\n",
              "        45.9,  49.8, 100.9,  21.4,  17.9,   5.3,  59. ,  29.7,  23.2,\n",
              "        25.6,   5.5,  56.5,  23.2,   2.4,  10.7,  34.5,  52.7,  25.6,\n",
              "        14.8,  79.2,  22.3,  46.2,  50.4,  15.6,  12.4,  74.2,  25.9,\n",
              "        50.6,   9.2,   3.2,  43.1,   8.7,  43. ,   2.1,  45.1,  65.6,\n",
              "         8.5,   9.3,  59.7,  20.5,   1.7,  12.9,  75.6,  37.9,  34.4,\n",
              "        38.9,   9. ,   8.7,  44.3,  11.9,  20.6,  37. ,  48.7,  14.2,\n",
              "        37.7,   9.5,   5.7,  50.5,  24.3,  45.2,  34.6,  30.7,  49.3,\n",
              "        25.6,   7.4,   5.4,  84.8,  21.6,  19.4,  57.6,   6.4,  18.4,\n",
              "        47.4,  17. ,  12.8,  13.1,  41.8,  20.3,  35.2,  23.7,  17.6,\n",
              "         8.3,  27.4,  29.7,  71.8,  30. ,  19.6,  26.6,  18.2,   3.7,\n",
              "        23.4,   5.8,   6. ,  31.6,   3.6,   6. ,  13.8,   8.1,   6.4,\n",
              "        66.2,   8.7])"
            ]
          },
          "metadata": {},
          "execution_count": 22
        }
      ]
    },
    {
      "cell_type": "code",
      "source": [
        "ds.corr()"
      ],
      "metadata": {
        "colab": {
          "base_uri": "https://localhost:8080/",
          "height": 173
        },
        "id": "yTRkGS7LlnPf",
        "outputId": "9cd74413-f81e-421a-acb8-8aee9cfa0f34"
      },
      "execution_count": null,
      "outputs": [
        {
          "output_type": "execute_result",
          "data": {
            "text/plain": [
              "                 TV     Radio  Newspaper     Sales\n",
              "TV         1.000000  0.054809   0.056648  0.901208\n",
              "Radio      0.054809  1.000000   0.354104  0.349631\n",
              "Newspaper  0.056648  0.354104   1.000000  0.157960\n",
              "Sales      0.901208  0.349631   0.157960  1.000000"
            ],
            "text/html": [
              "\n",
              "  <div id=\"df-f51b7cc5-9e75-4bec-922b-25f7304595dc\">\n",
              "    <div class=\"colab-df-container\">\n",
              "      <div>\n",
              "<style scoped>\n",
              "    .dataframe tbody tr th:only-of-type {\n",
              "        vertical-align: middle;\n",
              "    }\n",
              "\n",
              "    .dataframe tbody tr th {\n",
              "        vertical-align: top;\n",
              "    }\n",
              "\n",
              "    .dataframe thead th {\n",
              "        text-align: right;\n",
              "    }\n",
              "</style>\n",
              "<table border=\"1\" class=\"dataframe\">\n",
              "  <thead>\n",
              "    <tr style=\"text-align: right;\">\n",
              "      <th></th>\n",
              "      <th>TV</th>\n",
              "      <th>Radio</th>\n",
              "      <th>Newspaper</th>\n",
              "      <th>Sales</th>\n",
              "    </tr>\n",
              "  </thead>\n",
              "  <tbody>\n",
              "    <tr>\n",
              "      <th>TV</th>\n",
              "      <td>1.000000</td>\n",
              "      <td>0.054809</td>\n",
              "      <td>0.056648</td>\n",
              "      <td>0.901208</td>\n",
              "    </tr>\n",
              "    <tr>\n",
              "      <th>Radio</th>\n",
              "      <td>0.054809</td>\n",
              "      <td>1.000000</td>\n",
              "      <td>0.354104</td>\n",
              "      <td>0.349631</td>\n",
              "    </tr>\n",
              "    <tr>\n",
              "      <th>Newspaper</th>\n",
              "      <td>0.056648</td>\n",
              "      <td>0.354104</td>\n",
              "      <td>1.000000</td>\n",
              "      <td>0.157960</td>\n",
              "    </tr>\n",
              "    <tr>\n",
              "      <th>Sales</th>\n",
              "      <td>0.901208</td>\n",
              "      <td>0.349631</td>\n",
              "      <td>0.157960</td>\n",
              "      <td>1.000000</td>\n",
              "    </tr>\n",
              "  </tbody>\n",
              "</table>\n",
              "</div>\n",
              "      <button class=\"colab-df-convert\" onclick=\"convertToInteractive('df-f51b7cc5-9e75-4bec-922b-25f7304595dc')\"\n",
              "              title=\"Convert this dataframe to an interactive table.\"\n",
              "              style=\"display:none;\">\n",
              "        \n",
              "  <svg xmlns=\"http://www.w3.org/2000/svg\" height=\"24px\"viewBox=\"0 0 24 24\"\n",
              "       width=\"24px\">\n",
              "    <path d=\"M0 0h24v24H0V0z\" fill=\"none\"/>\n",
              "    <path d=\"M18.56 5.44l.94 2.06.94-2.06 2.06-.94-2.06-.94-.94-2.06-.94 2.06-2.06.94zm-11 1L8.5 8.5l.94-2.06 2.06-.94-2.06-.94L8.5 2.5l-.94 2.06-2.06.94zm10 10l.94 2.06.94-2.06 2.06-.94-2.06-.94-.94-2.06-.94 2.06-2.06.94z\"/><path d=\"M17.41 7.96l-1.37-1.37c-.4-.4-.92-.59-1.43-.59-.52 0-1.04.2-1.43.59L10.3 9.45l-7.72 7.72c-.78.78-.78 2.05 0 2.83L4 21.41c.39.39.9.59 1.41.59.51 0 1.02-.2 1.41-.59l7.78-7.78 2.81-2.81c.8-.78.8-2.07 0-2.86zM5.41 20L4 18.59l7.72-7.72 1.47 1.35L5.41 20z\"/>\n",
              "  </svg>\n",
              "      </button>\n",
              "      \n",
              "  <style>\n",
              "    .colab-df-container {\n",
              "      display:flex;\n",
              "      flex-wrap:wrap;\n",
              "      gap: 12px;\n",
              "    }\n",
              "\n",
              "    .colab-df-convert {\n",
              "      background-color: #E8F0FE;\n",
              "      border: none;\n",
              "      border-radius: 50%;\n",
              "      cursor: pointer;\n",
              "      display: none;\n",
              "      fill: #1967D2;\n",
              "      height: 32px;\n",
              "      padding: 0 0 0 0;\n",
              "      width: 32px;\n",
              "    }\n",
              "\n",
              "    .colab-df-convert:hover {\n",
              "      background-color: #E2EBFA;\n",
              "      box-shadow: 0px 1px 2px rgba(60, 64, 67, 0.3), 0px 1px 3px 1px rgba(60, 64, 67, 0.15);\n",
              "      fill: #174EA6;\n",
              "    }\n",
              "\n",
              "    [theme=dark] .colab-df-convert {\n",
              "      background-color: #3B4455;\n",
              "      fill: #D2E3FC;\n",
              "    }\n",
              "\n",
              "    [theme=dark] .colab-df-convert:hover {\n",
              "      background-color: #434B5C;\n",
              "      box-shadow: 0px 1px 3px 1px rgba(0, 0, 0, 0.15);\n",
              "      filter: drop-shadow(0px 1px 2px rgba(0, 0, 0, 0.3));\n",
              "      fill: #FFFFFF;\n",
              "    }\n",
              "  </style>\n",
              "\n",
              "      <script>\n",
              "        const buttonEl =\n",
              "          document.querySelector('#df-f51b7cc5-9e75-4bec-922b-25f7304595dc button.colab-df-convert');\n",
              "        buttonEl.style.display =\n",
              "          google.colab.kernel.accessAllowed ? 'block' : 'none';\n",
              "\n",
              "        async function convertToInteractive(key) {\n",
              "          const element = document.querySelector('#df-f51b7cc5-9e75-4bec-922b-25f7304595dc');\n",
              "          const dataTable =\n",
              "            await google.colab.kernel.invokeFunction('convertToInteractive',\n",
              "                                                     [key], {});\n",
              "          if (!dataTable) return;\n",
              "\n",
              "          const docLinkHtml = 'Like what you see? Visit the ' +\n",
              "            '<a target=\"_blank\" href=https://colab.research.google.com/notebooks/data_table.ipynb>data table notebook</a>'\n",
              "            + ' to learn more about interactive tables.';\n",
              "          element.innerHTML = '';\n",
              "          dataTable['output_type'] = 'display_data';\n",
              "          await google.colab.output.renderOutput(dataTable, element);\n",
              "          const docLink = document.createElement('div');\n",
              "          docLink.innerHTML = docLinkHtml;\n",
              "          element.appendChild(docLink);\n",
              "        }\n",
              "      </script>\n",
              "    </div>\n",
              "  </div>\n",
              "  "
            ]
          },
          "metadata": {},
          "execution_count": 23
        }
      ]
    },
    {
      "cell_type": "code",
      "source": [
        "x_tv=x[:,0]"
      ],
      "metadata": {
        "id": "vLirl2xlltVo"
      },
      "execution_count": null,
      "outputs": []
    },
    {
      "cell_type": "code",
      "source": [
        "x_tv"
      ],
      "metadata": {
        "colab": {
          "base_uri": "https://localhost:8080/"
        },
        "id": "MhY9NesUmHFw",
        "outputId": "f2efcfff-eddd-4bce-9fc9-987e618c41fb"
      },
      "execution_count": null,
      "outputs": [
        {
          "output_type": "execute_result",
          "data": {
            "text/plain": [
              "array([230.1,  44.5,  17.2, 151.5, 180.8,   8.7,  57.5, 120.2,   8.6,\n",
              "       199.8,  66.1, 214.7,  23.8,  97.5, 204.1, 195.4,  67.8, 281.4,\n",
              "        69.2, 147.3, 218.4, 237.4,  13.2, 228.3,  62.3, 262.9, 142.9,\n",
              "       240.1, 248.8,  70.6, 292.9, 112.9,  97.2, 265.6,  95.7, 290.7,\n",
              "       266.9,  74.7,  43.1, 228. , 202.5, 177. , 293.6, 206.9,  25.1,\n",
              "       175.1,  89.7, 239.9, 227.2,  66.9, 199.8, 100.4, 216.4, 182.6,\n",
              "       262.7, 198.9,   7.3, 136.2, 210.8, 210.7,  53.5, 261.3, 239.3,\n",
              "       102.7, 131.1,  69. ,  31.5, 139.3, 237.4, 216.8, 199.1, 109.8,\n",
              "        26.8, 129.4, 213.4,  16.9,  27.5, 120.5,   5.4, 116. ,  76.4,\n",
              "       239.8,  75.3,  68.4, 213.5, 193.2,  76.3, 110.7,  88.3, 109.8,\n",
              "       134.3,  28.6, 217.7, 250.9, 107.4, 163.3, 197.6, 184.9, 289.7,\n",
              "       135.2, 222.4, 296.4, 280.2, 187.9, 238.2, 137.9,  25. ,  90.4,\n",
              "        13.1, 255.4, 225.8, 241.7, 175.7, 209.6,  78.2,  75.1, 139.2,\n",
              "        76.4, 125.7,  19.4, 141.3,  18.8, 224. , 123.1, 229.5,  87.2,\n",
              "         7.8,  80.2, 220.3,  59.6,   0.7, 265.2,   8.4, 219.8,  36.9,\n",
              "        48.3,  25.6, 273.7,  43. , 184.9,  73.4, 193.7, 220.5, 104.6,\n",
              "        96.2, 140.3, 240.1, 243.2,  38. ,  44.7, 280.7, 121. , 197.6,\n",
              "       171.3, 187.8,   4.1,  93.9, 149.8,  11.7, 131.7, 172.5,  85.7,\n",
              "       188.4, 163.5, 117.2, 234.5,  17.9, 206.8, 215.4, 284.3,  50. ,\n",
              "       164.5,  19.6, 168.4, 222.4, 276.9, 248.4, 170.2, 276.7, 165.6,\n",
              "       156.6, 218.5,  56.2, 287.6, 253.8, 205. , 139.5, 191.1, 286. ,\n",
              "        18.7,  39.5,  75.5,  17.2, 166.8, 149.7,  38.2,  94.2, 177. ,\n",
              "       283.6, 232.1])"
            ]
          },
          "metadata": {},
          "execution_count": 25
        }
      ]
    },
    {
      "cell_type": "code",
      "source": [
        "type(x_tv),type(y)"
      ],
      "metadata": {
        "colab": {
          "base_uri": "https://localhost:8080/"
        },
        "id": "F7NEy2VnmKYb",
        "outputId": "925c0863-e51b-4577-ac33-84e3f3b28c5e"
      },
      "execution_count": null,
      "outputs": [
        {
          "output_type": "execute_result",
          "data": {
            "text/plain": [
              "(numpy.ndarray, numpy.ndarray)"
            ]
          },
          "metadata": {},
          "execution_count": 27
        }
      ]
    },
    {
      "cell_type": "code",
      "source": [
        "x_tv.shape,y.shape"
      ],
      "metadata": {
        "colab": {
          "base_uri": "https://localhost:8080/"
        },
        "id": "geSEQY9GnAum",
        "outputId": "2f926442-9db4-4d6a-e285-35814f58805c"
      },
      "execution_count": 28,
      "outputs": [
        {
          "output_type": "execute_result",
          "data": {
            "text/plain": [
              "((200,), (200,))"
            ]
          },
          "metadata": {},
          "execution_count": 28
        }
      ]
    },
    {
      "cell_type": "code",
      "source": [
        "x_tv=x_tv.reshape(-1,1)\n",
        "y=y.reshape(-1,1)"
      ],
      "metadata": {
        "id": "HDrS-zTfnncb"
      },
      "execution_count": 29,
      "outputs": []
    },
    {
      "cell_type": "code",
      "source": [
        "x_tv.shape,y.shape"
      ],
      "metadata": {
        "colab": {
          "base_uri": "https://localhost:8080/"
        },
        "id": "2Q-aIhzBn9Wh",
        "outputId": "6590b924-ece9-4ada-994f-1f6ae7449cf9"
      },
      "execution_count": 30,
      "outputs": [
        {
          "output_type": "execute_result",
          "data": {
            "text/plain": [
              "((200, 1), (200, 1))"
            ]
          },
          "metadata": {},
          "execution_count": 30
        }
      ]
    },
    {
      "cell_type": "code",
      "source": [
        "plt.scatter(x_tv,y)\n",
        "plt.xlabel('tv')\n",
        "plt.ylabel('salaries')\n",
        "plt.show()"
      ],
      "metadata": {
        "colab": {
          "base_uri": "https://localhost:8080/",
          "height": 279
        },
        "id": "Za6mf6etoE7k",
        "outputId": "2c455f2b-371f-426d-95e7-821a5382a25f"
      },
      "execution_count": 31,
      "outputs": [
        {
          "output_type": "display_data",
          "data": {
            "text/plain": [
              "<Figure size 432x288 with 1 Axes>"
            ],
            "image/png": "[encoded data removed]"
          },
          "metadata": {
            "needs_background": "light"
          }
        }
      ]
    },
    {
      "cell_type": "code",
      "source": [
        "reg=linear_model.LinearRegression()\n",
        "reg.fit(x_tv,y)"
      ],
      "metadata": {
        "colab": {
          "base_uri": "https://localhost:8080/",
          "height": 74
        },
        "id": "53DKvnskoorM",
        "outputId": "f384f87a-db6d-4738-9b0c-e4f3a497a842"
      },
      "execution_count": 32,
      "outputs": [
        {
          "output_type": "execute_result",
          "data": {
            "text/plain": [
              "LinearRegression()"
            ],
            "text/html": [
              "<style>#sk-container-id-1 {color: black;background-color: white;}#sk-container-id-1 pre{padding: 0;}#sk-container-id-1 div.sk-toggleable {background-color: white;}#sk-container-id-1 label.sk-toggleable__label {cursor: pointer;display: block;width: 100%;margin-bottom: 0;padding: 0.3em;box-sizing: border-box;text-align: center;}#sk-container-id-1 label.sk-toggleable__label-arrow:before {content: \"▸\";float: left;margin-right: 0.25em;color: #696969;}#sk-container-id-1 label.sk-toggleable__label-arrow:hover:before {color: black;}#sk-container-id-1 div.sk-estimator:hover label.sk-toggleable__label-arrow:before {color: black;}#sk-container-id-1 div.sk-toggleable__content {max-height: 0;max-width: 0;overflow: hidden;text-align: left;background-color: #f0f8ff;}#sk-container-id-1 div.sk-toggleable__content pre {margin: 0.2em;color: black;border-radius: 0.25em;background-color: #f0f8ff;}#sk-container-id-1 input.sk-toggleable__control:checked~div.sk-toggleable__content {max-height: 200px;max-width: 100%;overflow: auto;}#sk-container-id-1 input.sk-toggleable__control:checked~label.sk-toggleable__label-arrow:before {content: \"▾\";}#sk-container-id-1 div.sk-estimator input.sk-toggleable__control:checked~label.sk-toggleable__label {background-color: #d4ebff;}#sk-container-id-1 div.sk-label input.sk-toggleable__control:checked~label.sk-toggleable__label {background-color: #d4ebff;}#sk-container-id-1 input.sk-hidden--visually {border: 0;clip: rect(1px 1px 1px 1px);clip: rect(1px, 1px, 1px, 1px);height: 1px;margin: -1px;overflow: hidden;padding: 0;position: absolute;width: 1px;}#sk-container-id-1 div.sk-estimator {font-family: monospace;background-color: #f0f8ff;border: 1px dotted black;border-radius: 0.25em;box-sizing: border-box;margin-bottom: 0.5em;}#sk-container-id-1 div.sk-estimator:hover {background-color: #d4ebff;}#sk-container-id-1 div.sk-parallel-item::after {content: \"\";width: 100%;border-bottom: 1px solid gray;flex-grow: 1;}#sk-container-id-1 div.sk-label:hover label.sk-toggleable__label {background-color: #d4ebff;}#sk-container-id-1 div.sk-serial::before {content: \"\";position: absolute;border-left: 1px solid gray;box-sizing: border-box;top: 0;bottom: 0;left: 50%;z-index: 0;}#sk-container-id-1 div.sk-serial {display: flex;flex-direction: column;align-items: center;background-color: white;padding-right: 0.2em;padding-left: 0.2em;position: relative;}#sk-container-id-1 div.sk-item {position: relative;z-index: 1;}#sk-container-id-1 div.sk-parallel {display: flex;align-items: stretch;justify-content: center;background-color: white;position: relative;}#sk-container-id-1 div.sk-item::before, #sk-container-id-1 div.sk-parallel-item::before {content: \"\";position: absolute;border-left: 1px solid gray;box-sizing: border-box;top: 0;bottom: 0;left: 50%;z-index: -1;}#sk-container-id-1 div.sk-parallel-item {display: flex;flex-direction: column;z-index: 1;position: relative;background-color: white;}#sk-container-id-1 div.sk-parallel-item:first-child::after {align-self: flex-end;width: 50%;}#sk-container-id-1 div.sk-parallel-item:last-child::after {align-self: flex-start;width: 50%;}#sk-container-id-1 div.sk-parallel-item:only-child::after {width: 0;}#sk-container-id-1 div.sk-dashed-wrapped {border: 1px dashed gray;margin: 0 0.4em 0.5em 0.4em;box-sizing: border-box;padding-bottom: 0.4em;background-color: white;}#sk-container-id-1 div.sk-label label {font-family: monospace;font-weight: bold;display: inline-block;line-height: 1.2em;}#sk-container-id-1 div.sk-label-container {text-align: center;}#sk-container-id-1 div.sk-container {/* jupyter's `normalize.less` sets `[hidden] { display: none; }` but bootstrap.min.css set `[hidden] { display: none !important; }` so we also need the `!important` here to be able to override the default hidden behavior on the sphinx rendered scikit-learn.org. See: https://github.com/scikit-learn/scikit-learn/issues/21755 */display: inline-block !important;position: relative;}#sk-container-id-1 div.sk-text-repr-fallback {display: none;}</style><div id=\"sk-container-id-1\" class=\"sk-top-container\"><div class=\"sk-text-repr-fallback\"><pre>LinearRegression()</pre><b>In a Jupyter environment, please rerun this cell to show the HTML representation or trust the notebook. <br />On GitHub, the HTML representation is unable to render, please try loading this page with nbviewer.org.</b></div><div class=\"sk-container\" hidden><div class=\"sk-item\"><div class=\"sk-estimator sk-toggleable\"><input class=\"sk-toggleable__control sk-hidden--visually\" id=\"sk-estimator-id-1\" type=\"checkbox\" checked><label for=\"sk-estimator-id-1\" class=\"sk-toggleable__label sk-toggleable__label-arrow\">LinearRegression</label><div class=\"sk-toggleable__content\"><pre>LinearRegression()</pre></div></div></div></div></div>"
            ]
          },
          "metadata": {},
          "execution_count": 32
        }
      ]
    },
    {
      "cell_type": "code",
      "source": [
        "from sklearn.metrics import mean_absolute_error,r2_score,mean_squared_error\n",
        "y_pred=reg.predict(x_tv)\n",
        "print(f'MAE ={mean_absolute_error(y,y_pred)}')\n",
        "print(f'MAE={mean_squared_error(y,y_pred)}')\n",
        "print(f'RMSE={np.sqrt(mean_squared_error(y,y_pred))}')\n",
        "print(f'R_2={r2_score(y,y_pred)}')\n"
      ],
      "metadata": {
        "colab": {
          "base_uri": "https://localhost:8080/"
        },
        "id": "7nYy4ojLpFY7",
        "outputId": "65a0128a-562e-4764-e4bf-f8a92e3a3018"
      },
      "execution_count": 34,
      "outputs": [
        {
          "output_type": "stream",
          "name": "stdout",
          "text": [
            "MAE =1.8305872641932412\n",
            "MAE=5.2177438977951285\n",
            "RMSE=2.2842381438447106\n",
            "R_2=0.8121757029987414\n"
          ]
        }
      ]
    },
    {
      "cell_type": "code",
      "source": [
        "prediction_space=np.linspace(min(x_tv),max(x_tv)).reshape(-1,1)"
      ],
      "metadata": {
        "id": "LakOEXQauXIf"
      },
      "execution_count": 36,
      "outputs": []
    },
    {
      "cell_type": "code",
      "source": [
        "plt.scatter(x_tv,y,color='red')\n",
        "plt.plot(x_tv,reg.predict(x_tv),color='green',linewidth=3)\n",
        "plt.show()"
      ],
      "metadata": {
        "colab": {
          "base_uri": "https://localhost:8080/",
          "height": 265
        },
        "id": "fDw_dO83vBWi",
        "outputId": "1e516756-89a9-4631-eefa-416b3d3e536c"
      },
      "execution_count": 38,
      "outputs": [
        {
          "output_type": "display_data",
          "data": {
            "text/plain": [
              "<Figure size 432x288 with 1 Axes>"
            ],
            "image/png": "[encoded data removed]"
          },
          "metadata": {
            "needs_background": "light"
          }
        }
      ]
    },
    {
      "cell_type": "code",
      "source": [
        "plt.scatter(x_tv,y,color='green')\n",
        "plt.plot(x_tv,reg.predict(x_tv),color='red',linewidth=3)\n",
        "plt.show()"
      ],
      "metadata": {
        "colab": {
          "base_uri": "https://localhost:8080/",
          "height": 265
        },
        "id": "iSpC3CK4xpeb",
        "outputId": "dc365bd4-c8f9-4fc5-f11f-2aaf08fade0f"
      },
      "execution_count": 39,
      "outputs": [
        {
          "output_type": "display_data",
          "data": {
            "text/plain": [
              "<Figure size 432x288 with 1 Axes>"
            ],
            "image/png": "[encoded data removed]"
          },
          "metadata": {
            "needs_background": "light"
          }
        }
      ]
    }
  ]
}